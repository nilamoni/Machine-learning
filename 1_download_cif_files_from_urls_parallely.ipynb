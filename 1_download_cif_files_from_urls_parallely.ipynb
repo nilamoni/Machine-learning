{
 "cells": [
  {
   "cell_type": "code",
   "execution_count": 17,
   "id": "8aac0d17-2fec-4e75-b353-e4e98e1996e9",
   "metadata": {
    "tags": []
   },
   "outputs": [],
   "source": [
    "import numpy as np"
   ]
  },
  {
   "cell_type": "markdown",
   "id": "69e340e5",
   "metadata": {},
   "source": [
    "# Open the .txt file containing the list of urls\n",
    "\n",
    "1) open the .txt file which contains the list of urls. Our goal is to download the files in those urls in parallel to achieve speed up"
   ]
  },
  {
   "cell_type": "code",
   "execution_count": 18,
   "id": "0793c493-88bd-4bf0-afe6-28699658d66e",
   "metadata": {
    "tags": []
   },
   "outputs": [],
   "source": [
    "f = open('urls.txt', 'r')       # \"r\" stand for read only mode"
   ]
  },
  {
   "cell_type": "markdown",
   "id": "f423f108",
   "metadata": {},
   "source": [
    "# Read the contents of the file"
   ]
  },
  {
   "cell_type": "code",
   "execution_count": 19,
   "id": "ad2a63c9-3774-45d7-8f4b-dd9cc8d18fa4",
   "metadata": {
    "tags": []
   },
   "outputs": [],
   "source": [
    "content = f.read()"
   ]
  },
  {
   "cell_type": "markdown",
   "id": "4d639407",
   "metadata": {},
   "source": [
    "# The type of the variable \"content\" is strings"
   ]
  },
  {
   "cell_type": "code",
   "execution_count": 20,
   "id": "91085f97",
   "metadata": {},
   "outputs": [
    {
     "data": {
      "text/plain": [
       "str"
      ]
     },
     "execution_count": 20,
     "metadata": {},
     "output_type": "execute_result"
    }
   ],
   "source": [
    "type(content)\n",
    "# The varibale \"content\" will have all the urls as a single string with each url separated by a newline character, \"\\n\""
   ]
  },
  {
   "cell_type": "markdown",
   "id": "4ce95727",
   "metadata": {},
   "source": [
    "# Convert the single string, \"content\" to a list by using split() method\n",
    "\n",
    "\n",
    "## Syntax\n",
    "string.split(separator, maxsplit)\n",
    "\n",
    "## Parameter Values\n",
    "**1) separator**: (Optional) specifies the separator to use when splitting the string. By default any whitespace is a separator.<br>\n",
    "\n",
    "**2) maxsplit**: (Optional) specifies how many splits to do. Default value is -1, which is \"all occurrences\"\n"
   ]
  },
  {
   "cell_type": "code",
   "execution_count": 21,
   "id": "778bee5e",
   "metadata": {
    "tags": []
   },
   "outputs": [],
   "source": [
    "urls =  content.split('\\n')                          # string.split(separator, maxsplit)"
   ]
  },
  {
   "cell_type": "code",
   "execution_count": 22,
   "id": "ffe001d8",
   "metadata": {
    "tags": []
   },
   "outputs": [
    {
     "data": {
      "text/plain": [
       "['http://www.crystallography.net/cod/1000044.cif',\n",
       " 'http://www.crystallography.net/cod/1008127.cif',\n",
       " 'http://www.crystallography.net/cod/1008128.cif']"
      ]
     },
     "execution_count": 22,
     "metadata": {},
     "output_type": "execute_result"
    }
   ],
   "source": [
    "# Display the first three links\n",
    "urls[0:3]"
   ]
  },
  {
   "cell_type": "code",
   "execution_count": 23,
   "id": "5b35422b",
   "metadata": {},
   "outputs": [
    {
     "data": {
      "text/plain": [
       "35776"
      ]
     },
     "execution_count": 23,
     "metadata": {},
     "output_type": "execute_result"
    }
   ],
   "source": [
    "len(urls)     # this will print the number of urls"
   ]
  },
  {
   "cell_type": "markdown",
   "id": "155bb331",
   "metadata": {},
   "source": [
    "# The variable \"urls\" is a list containing all urls (strings)"
   ]
  },
  {
   "cell_type": "code",
   "execution_count": 24,
   "id": "bedcc95a",
   "metadata": {},
   "outputs": [
    {
     "data": {
      "text/plain": [
       "list"
      ]
     },
     "execution_count": 24,
     "metadata": {},
     "output_type": "execute_result"
    }
   ],
   "source": [
    "type(urls)          # the varible urls is a list containing strings"
   ]
  },
  {
   "cell_type": "code",
   "execution_count": 25,
   "id": "4f67df98",
   "metadata": {},
   "outputs": [
    {
     "data": {
      "text/plain": [
       "str"
      ]
     },
     "execution_count": 25,
     "metadata": {},
     "output_type": "execute_result"
    }
   ],
   "source": [
    "type(urls[0])"
   ]
  },
  {
   "cell_type": "code",
   "execution_count": 26,
   "id": "d5ee2560",
   "metadata": {},
   "outputs": [
    {
     "data": {
      "text/plain": [
       "['http://www.crystallography.net/cod/1000044.cif',\n",
       " 'http://www.crystallography.net/cod/1008127.cif',\n",
       " 'http://www.crystallography.net/cod/1008128.cif',\n",
       " 'http://www.crystallography.net/cod/1008129.cif',\n",
       " 'http://www.crystallography.net/cod/1008130.cif']"
      ]
     },
     "execution_count": 26,
     "metadata": {},
     "output_type": "execute_result"
    }
   ],
   "source": [
    "urls[0:5]  # This will print the first five urls stored in the list \"urls\""
   ]
  },
  {
   "cell_type": "code",
   "execution_count": 27,
   "id": "376c6c50",
   "metadata": {},
   "outputs": [],
   "source": [
    "urls.remove('')             # removes any bank entry"
   ]
  },
  {
   "cell_type": "code",
   "execution_count": 28,
   "id": "a5bbd63c-d16f-4e3c-9f73-9da059ea7246",
   "metadata": {
    "tags": []
   },
   "outputs": [
    {
     "data": {
      "text/plain": [
       "35775"
      ]
     },
     "execution_count": 28,
     "metadata": {},
     "output_type": "execute_result"
    }
   ],
   "source": [
    "len(urls)                   # displays the number of entries (urls) in the list \"urls\""
   ]
  },
  {
   "cell_type": "code",
   "execution_count": 29,
   "id": "87897781-5793-4576-bb55-a8c9eeca5c35",
   "metadata": {
    "tags": []
   },
   "outputs": [
    {
     "data": {
      "text/plain": [
       "'http://www.crystallography.net/cod/1000044.cif'"
      ]
     },
     "execution_count": 29,
     "metadata": {},
     "output_type": "execute_result"
    }
   ],
   "source": [
    "urls[0]                     # displays the first url"
   ]
  },
  {
   "cell_type": "markdown",
   "id": "7895529d",
   "metadata": {},
   "source": [
    "# Download the file \"1000044.cif\" from the above link and save it as \"1000044.cif\""
   ]
  },
  {
   "cell_type": "markdown",
   "id": "f8736a43",
   "metadata": {},
   "source": [
    "## 1) display \"1000044.cif\" from the string 'http://www.crystallography.net/cod/1000044.cif'"
   ]
  },
  {
   "cell_type": "code",
   "execution_count": 30,
   "id": "bb0fd9db",
   "metadata": {},
   "outputs": [
    {
     "data": {
      "text/plain": [
       "'1000044.cif'"
      ]
     },
     "execution_count": 30,
     "metadata": {},
     "output_type": "execute_result"
    }
   ],
   "source": [
    "urls[0][len(urls[0]) - 11:]\n",
    "\n",
    "# here, 11 is the number of characters in '1000044.cif'"
   ]
  },
  {
   "cell_type": "markdown",
   "id": "c73a08f6",
   "metadata": {},
   "source": [
    "# Or\n",
    "\n",
    "The **rsplit()** method: The \"r\" in \"rsplit()\" stands for right and it splits a string into a list, starting from the right.\n",
    "\n",
    "## syntax:\n",
    "\n",
    "**string.rsplit(separator, maxsplit)**:\n",
    "\n",
    "1) **separator**:\tOptional. Specifies the separator to use when splitting the string. By default any whitespace is a separator.\n",
    "2) **maxsplit**:\tOptional. Specifies how many splits to do. Default value is -1, which is \"all occurrences\""
   ]
  },
  {
   "cell_type": "code",
   "execution_count": 31,
   "id": "ec5105a4",
   "metadata": {},
   "outputs": [
    {
     "name": "stdout",
     "output_type": "stream",
     "text": [
      "['http:', '', 'www.crystallography.net', 'cod', '1000044.cif']\n"
     ]
    }
   ],
   "source": [
    "temp = urls[0].rsplit('/')\n",
    "\n",
    "print(temp)\n",
    "\n",
    "# Here, temp is a list containing all the strings seperated by \"/\" as shown below.\n"
   ]
  },
  {
   "cell_type": "code",
   "execution_count": 32,
   "id": "59871bd2",
   "metadata": {},
   "outputs": [
    {
     "name": "stdout",
     "output_type": "stream",
     "text": [
      "['http://www.crystallography.net/cod', '1000044.cif']\n"
     ]
    }
   ],
   "source": [
    "temp = urls[0].rsplit('/',1)              # This will split the string in two parts, (indexed as 0 and 1)\n",
    "\n",
    "print(temp)"
   ]
  },
  {
   "cell_type": "code",
   "execution_count": 33,
   "id": "3669aca4",
   "metadata": {},
   "outputs": [
    {
     "data": {
      "text/plain": [
       "'1000044.cif'"
      ]
     },
     "execution_count": 33,
     "metadata": {},
     "output_type": "execute_result"
    }
   ],
   "source": [
    "# our required string is the last entry in the list \"temp\"\n",
    "\n",
    "temp[1]       # Or, temp[-1]"
   ]
  },
  {
   "cell_type": "markdown",
   "id": "64e5f0c2",
   "metadata": {},
   "source": [
    "# Or"
   ]
  },
  {
   "cell_type": "code",
   "execution_count": 34,
   "id": "bcd1c7d6",
   "metadata": {},
   "outputs": [
    {
     "data": {
      "text/plain": [
       "'1000044.cif'"
      ]
     },
     "execution_count": 34,
     "metadata": {},
     "output_type": "execute_result"
    }
   ],
   "source": [
    "urls[0].rsplit('/')[-1]          # Or, temp[-1]"
   ]
  },
  {
   "cell_type": "markdown",
   "id": "334dcbfd",
   "metadata": {},
   "source": [
    "## 2) download the file from the link and save it with name \"1000044.cif\""
   ]
  },
  {
   "cell_type": "code",
   "execution_count": 35,
   "id": "742df0a3",
   "metadata": {
    "scrolled": true,
    "tags": []
   },
   "outputs": [],
   "source": [
    "import requests        # this is the library to download files from a url\n",
    "\n",
    "r = requests.get(urls[0], allow_redirects=True);\n",
    "\n",
    "open('./cif_files/%s' % urls[0].rsplit('/')[-1],  'wb').write(r.content);     \n",
    "\n",
    "# here,\n",
    "#./ means current or working directory\n",
    "# 'wb' stands for \"write binary\"\n",
    "# %s means % strings"
   ]
  },
  {
   "cell_type": "markdown",
   "id": "10147356",
   "metadata": {},
   "source": [
    "# Check if the downloaded file works"
   ]
  },
  {
   "cell_type": "code",
   "execution_count": 36,
   "id": "f1bf59ac",
   "metadata": {
    "tags": []
   },
   "outputs": [
    {
     "name": "stdout",
     "output_type": "stream",
     "text": [
      "Scatter(1000044 with 2 atomic positions, 192 symmetries)\n",
      "       Type: xray\n",
      "     Energy: 8.047853674810085 keV\n",
      " Wavelength: 1.54059 A\n",
      " ---Settings---\n",
      "      Powder units: tth\n",
      "    Isotropic ADPs: True\n",
      "  Specular Direction (reflection): ( 0, 0, 1)\n",
      "Parallel Direction (transmission): ( 0, 0, 1)\n",
      "      theta offset: 0.0\n",
      "         min theta: -180.0\n",
      "         max theta: 180.0\n",
      "      min twotheta: 5\n",
      "      max twotheta: 100\n",
      " ---X-Ray Settings---\n",
      " Waasmaier scattering factor: False\n",
      " ---Magnetic Settings---\n",
      "   Mag. scattering: True\n",
      "  Mag. form factor: True\n",
      "         Polarised: False\n",
      "      Polarisation: sp\n",
      "       Pol. vector: (0,1,0)\n",
      " ---Resonant Settings---\n",
      "   Azimuthal angle: 0\n",
      "    Azimuthal ref.: (1,0,0)\n",
      "               flm: (0,1,0)\n",
      "  use e1e1 approx.: True\n",
      "\n"
     ]
    }
   ],
   "source": [
    "# import the library for manimulating cif data\n",
    "import Dans_Diffraction as dif\n",
    "\n",
    "# define relevant parameters\n",
    "energy_kev = dif.fc.wave2energy(1.54059)\n",
    "\n",
    "xtl = dif.Crystal('./cif_files/1000044.cif');\n",
    "        \n",
    "# get the lattice parameters, a,b,c, and alpha, beta, gamma\n",
    "lattice_parameters = xtl.Cell.lp();\n",
    "\n",
    "# get the 2theta, corresponding intensities, and reflections (h,k, l values (Miler indices)\n",
    "\n",
    "xtl.Scatter.setup_scatter(energy_kev=energy_kev, min_twotheta=5, max_twotheta=100, scattering_type='xray', powder_units='tth');\n",
    "twotheta, intensity, reflections = xtl.Scatter.powder(units='tth', peak_width=0.01, background=0);\n"
   ]
  },
  {
   "cell_type": "code",
   "execution_count": 37,
   "id": "6883e989",
   "metadata": {},
   "outputs": [
    {
     "name": "stdout",
     "output_type": "stream",
     "text": [
      "(4.799, 4.799, 4.799, 90.0, 90.0, 90.0)\n"
     ]
    }
   ],
   "source": [
    "print(lattice_parameters)"
   ]
  },
  {
   "cell_type": "code",
   "execution_count": 38,
   "id": "adb0891e",
   "metadata": {},
   "outputs": [
    {
     "data": {
      "image/png": "[encoded data removed]",
      "text/plain": [
       "<Figure size 640x480 with 1 Axes>"
      ]
     },
     "metadata": {},
     "output_type": "display_data"
    }
   ],
   "source": [
    "import matplotlib.pyplot as plt\n",
    "\n",
    "plt.plot(twotheta, intensity)\n",
    "\n",
    "plt.show()\n"
   ]
  },
  {
   "cell_type": "markdown",
   "id": "e4f6311b",
   "metadata": {},
   "source": [
    "# Create a function to download a file from a given url"
   ]
  },
  {
   "cell_type": "code",
   "execution_count": 39,
   "id": "bb1a0d09",
   "metadata": {},
   "outputs": [],
   "source": [
    "from joblib import Parallel, delayed\n",
    "\n",
    "def download_files(url, x = True):\n",
    "    if x == False:\n",
    "        r = requests.get(url, allow_redirects=True);\n",
    "        open('./cif_files/testing/%s' % url.rsplit('/',1)[-1],  'wb').write(r.content);\n",
    "    else:\n",
    "        r = requests.get(url, allow_redirects=True);\n",
    "        open('./cif_files/training/%s' % url.rsplit('/',1)[-1],  'wb').write(r.content);\n",
    "\n",
    "#Parallel(n_jobs = -1)(delayed(download_files)(url) for url in urls[0:3]);"
   ]
  },
  {
   "cell_type": "markdown",
   "id": "1121a893",
   "metadata": {},
   "source": [
    "# suffle the list of urls and download from first 2048 urls"
   ]
  },
  {
   "cell_type": "code",
   "execution_count": 40,
   "id": "47389af9",
   "metadata": {
    "tags": []
   },
   "outputs": [
    {
     "data": {
      "text/plain": [
       "['http://www.crystallography.net/cod/4133463.cif',\n",
       " 'http://www.crystallography.net/cod/4124654.cif',\n",
       " 'http://www.crystallography.net/cod/4121541.cif',\n",
       " 'http://www.crystallography.net/cod/4118931.cif',\n",
       " 'http://www.crystallography.net/cod/4108078.cif']"
      ]
     },
     "execution_count": 40,
     "metadata": {},
     "output_type": "execute_result"
    }
   ],
   "source": [
    "import random\n",
    "\n",
    "shuffled_urls = random.sample(urls, len(urls))\n",
    "\n",
    "shuffled_urls[0:5]"
   ]
  },
  {
   "cell_type": "code",
   "execution_count": 41,
   "id": "60e9b9f0-2a3e-4219-b7a1-dee5b0b38264",
   "metadata": {
    "tags": []
   },
   "outputs": [
    {
     "name": "stdout",
     "output_type": "stream",
     "text": [
      "2048 100\n"
     ]
    }
   ],
   "source": [
    "# number of items in \"suffle\n",
    "training_urls = shuffled_urls[:2048]\n",
    "\n",
    "testing_urls = shuffled_urls[2048:2048+100]\n",
    "\n",
    "print(len(training_urls), len(testing_urls))"
   ]
  },
  {
   "cell_type": "code",
   "execution_count": 42,
   "id": "f0d49ca7",
   "metadata": {
    "tags": []
   },
   "outputs": [],
   "source": [
    "# save 2048 cif files for training\n",
    "\n",
    "Parallel(n_jobs = -1)(delayed(download_files)(url) for url in training_urls);\n",
    "\n",
    "# here,\n",
    "# n_jobs : number of processor/threads you want, (-1) means all available"
   ]
  },
  {
   "cell_type": "code",
   "execution_count": 43,
   "id": "e55e1bfa",
   "metadata": {},
   "outputs": [],
   "source": [
    "# save 100 cif files for testing\n",
    "Parallel(n_jobs = -1)(delayed(download_files)(url, False) for url in testing_urls);"
   ]
  },
  {
   "cell_type": "markdown",
   "id": "2c9aa284",
   "metadata": {},
   "source": [
    "# Tips:\n",
    "\n",
    "1) CTRL+/ is a toggle for comment and uncomment!\n",
    "2) In python, all folder names in a directory path are seperated by \"/\". For eg. \"./my_folder/my_subfolder/\". This is opposite of how directory paths look like in windows 11 which is for example: \"C:\\my_folder\\my_subfolder\\\""
   ]
  },
  {
   "cell_type": "code",
   "execution_count": null,
   "id": "989dea1a",
   "metadata": {},
   "outputs": [],
   "source": []
  }
 ],
 "metadata": {
  "kernelspec": {
   "display_name": "Python 3 (ipykernel)",
   "language": "python",
   "name": "python3"
  },
  "language_info": {
   "codemirror_mode": {
    "name": "ipython",
    "version": 3
   },
   "file_extension": ".py",
   "mimetype": "text/x-python",
   "name": "python",
   "nbconvert_exporter": "python",
   "pygments_lexer": "ipython3",
   "version": "3.10.9"
  }
 },
 "nbformat": 4,
 "nbformat_minor": 5
}
