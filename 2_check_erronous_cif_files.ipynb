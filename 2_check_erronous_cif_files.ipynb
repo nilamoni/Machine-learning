{
 "cells": [
  {
   "cell_type": "markdown",
   "id": "e4479914-555f-4a47-957c-1db9eec22a0e",
   "metadata": {},
   "source": [
    "# <div align=\"center\">Aim of the code</div>"
   ]
  },
  {
   "cell_type": "markdown",
   "id": "491f0212-ff3f-44fd-98d2-f93199d2d8de",
   "metadata": {},
   "source": [
    "1) To check for erronous .cif files and delete them from the folder"
   ]
  },
  {
   "cell_type": "markdown",
   "id": "a76a8539-f222-4f7e-aafe-634f60da7127",
   "metadata": {},
   "source": [
    "# Libraries"
   ]
  },
  {
   "cell_type": "code",
   "execution_count": 1,
   "id": "8558e378-a464-4043-ac46-33d4cf7fbecb",
   "metadata": {},
   "outputs": [],
   "source": [
    "import os\n",
    "\n",
    "# import the library for manimulating cif data\n",
    "import Dans_Diffraction as dif               # \"pip install Dans-Diffraction\" for installing this package\n",
    "\n",
    "import numpy as np"
   ]
  },
  {
   "cell_type": "markdown",
   "id": "8af9b63d-68df-4b22-8b55-7de2ac8f17e0",
   "metadata": {},
   "source": [
    "# Create a list containing names of all the .cif files"
   ]
  },
  {
   "cell_type": "code",
   "execution_count": 2,
   "id": "68ecfe77-e822-4e59-ba6b-5cf262d8e86e",
   "metadata": {},
   "outputs": [],
   "source": [
    "# Create an empty list to store the paths of all .cif files\n",
    "file_paths = []\n",
    "\n",
    "training_data_directory = './cif_files/training/'             # ./ means current directory\n",
    "\n",
    "for file in os.listdir(training_data_directory):\n",
    "    if \".cif\" in file:\n",
    "        file_paths.append('./cif_files/training/' + file)"
   ]
  },
  {
   "cell_type": "code",
   "execution_count": 3,
   "id": "1274d92c-a63f-4f40-8452-bf3d6a0fde46",
   "metadata": {},
   "outputs": [
    {
     "data": {
      "text/plain": [
       "['./cif_files/training/1010086.cif',\n",
       " './cif_files/training/1010099.cif',\n",
       " './cif_files/training/1010103.cif',\n",
       " './cif_files/training/1010376.cif',\n",
       " './cif_files/training/1010389.cif']"
      ]
     },
     "execution_count": 3,
     "metadata": {},
     "output_type": "execute_result"
    }
   ],
   "source": [
    "file_paths[:5]"
   ]
  },
  {
   "cell_type": "markdown",
   "id": "ce4297c0-8dea-42a7-8d88-0a108480fb92",
   "metadata": {
    "tags": []
   },
   "source": [
    "# Create a function to check for erronous .cif files and delete them"
   ]
  },
  {
   "cell_type": "code",
   "execution_count": 4,
   "id": "7d10ef38-bc4a-45e2-a372-406b947b58cd",
   "metadata": {
    "tags": []
   },
   "outputs": [],
   "source": [
    "def check_error_files(file):\n",
    "\n",
    "    # define relevant parameters\n",
    "    energy_kev = dif.fc.wave2energy(1.54059)\n",
    "\n",
    "    try:\n",
    "        xtl = dif.Crystal(file);         # ; suppresses the output a given line of code\n",
    "\n",
    "        # get the lattice parameters, a,b,c, and alpha, beta, gamma\n",
    "        lattice_parameters = xtl.Cell.lp();\n",
    "\n",
    "        # get the 2theta, corresponding intensities, and reflections (h,k, l values (Miler indices)\n",
    "\n",
    "        xtl.Scatter.setup_scatter(energy_kev=energy_kev, min_twotheta=5, max_twotheta=100, scattering_type='xray', powder_units='tth');\n",
    "        twotheta, intensity, reflections = xtl.Scatter.powder(units='tth', peak_width=0.01, background=0);\n",
    "\n",
    "    except:\n",
    "        if os.path.isfile(file):         # means if the \"file\" exists then\n",
    "            os.remove(file)              # means remove the \"file\"\n",
    "            print(\"erroneous file deleted\")\n",
    "#        pass\n",
    "\n"
   ]
  },
  {
   "cell_type": "code",
   "execution_count": null,
   "id": "29f9495a-a605-4b96-9fff-abc709f0a3ab",
   "metadata": {},
   "outputs": [],
   "source": []
  },
  {
   "cell_type": "markdown",
   "id": "e460cd0b-b48f-4238-baf1-7a935c35f360",
   "metadata": {
    "tags": []
   },
   "source": [
    "# Run the \"check_error_files\" function in parallel for different .cif files"
   ]
  },
  {
   "cell_type": "code",
   "execution_count": null,
   "id": "cf1109ec-6a46-43c8-94d0-eba54aa5ad55",
   "metadata": {},
   "outputs": [],
   "source": [
    "# %%capture\n",
    "# The above line of code supresses the output of this entire cell\n",
    "\n",
    "from joblib import Parallel, delayed\n",
    "\n",
    "Parallel(n_jobs = -1,timeout=None, max_nbytes = None, backend= 'loky')(delayed(check_error_files)(file) for file in file_paths);"
   ]
  },
  {
   "cell_type": "code",
   "execution_count": null,
   "id": "d46e6c90-4a61-4139-9915-dd36da7b4cd4",
   "metadata": {},
   "outputs": [],
   "source": []
  }
 ],
 "metadata": {
  "kernelspec": {
   "display_name": "Python 3 (ipykernel)",
   "language": "python",
   "name": "python3"
  },
  "language_info": {
   "codemirror_mode": {
    "name": "ipython",
    "version": 3
   },
   "file_extension": ".py",
   "mimetype": "text/x-python",
   "name": "python",
   "nbconvert_exporter": "python",
   "pygments_lexer": "ipython3",
   "version": "3.10.9"
  }
 },
 "nbformat": 4,
 "nbformat_minor": 5
}
