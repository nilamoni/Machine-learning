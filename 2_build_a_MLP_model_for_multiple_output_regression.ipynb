{
 "cells": [
  {
   "cell_type": "markdown",
   "id": "93d8688a-6ee9-4ab5-bf98-69eb457e5a07",
   "metadata": {},
   "source": [
    "# <div align=\"center\">Aim of the code</div>"
   ]
  },
  {
   "cell_type": "markdown",
   "id": "04ccd0ee-4a7f-4585-befd-b25146586f5d",
   "metadata": {},
   "source": [
    "1) To the XRD data from a .cif file and stores it in a .csv file. This code automate the process for multple cif files\n",
    "2) To generate the data for neural network, X_train and Y_train. X_train will contain all the intensity values (scaled between 0 and 1) and Y_train will contain the corresponding lattice parameters (a, b,c, alpha, beta, gamma).\n",
    "3) Train a neural network\n",
    "\n",
    "## Note:\n",
    "\n",
    "We will train our model only for P-1 space group"
   ]
  },
  {
   "cell_type": "markdown",
   "id": "1fc6d5e3-6789-4f9b-9c7b-b8e34b78e6f5",
   "metadata": {},
   "source": [
    "# Libraries"
   ]
  },
  {
   "cell_type": "code",
   "execution_count": 8,
   "id": "44f33776-8dec-414f-aa0a-9ac5a9b5eb9d",
   "metadata": {
    "tags": []
   },
   "outputs": [],
   "source": [
    "import numpy as np\n",
    "\n",
    "import os\n",
    "\n",
    "# import the library for manimulating cif data\n",
    "import Dans_Diffraction as dif\n"
   ]
  },
  {
   "cell_type": "markdown",
   "id": "6e7afd6a-c8d6-4ae6-8409-a128a6b93fd0",
   "metadata": {
    "tags": []
   },
   "source": [
    "# Create a function to generate the X_train and Y_train data for machine learning"
   ]
  },
  {
   "cell_type": "code",
   "execution_count": 9,
   "id": "26b4f4c0-d1bf-476d-b1da-0c238e4bac5a",
   "metadata": {
    "tags": []
   },
   "outputs": [],
   "source": [
    "\n",
    "def generate_data_set(file_paths):\n",
    "    \n",
    "    # define relevant parameters\n",
    "    energy_kev = dif.fc.wave2energy(1.54059)\n",
    "\n",
    "    count = 0\n",
    "\n",
    "    # Enter for loop\n",
    "    for files in file_paths:\n",
    "\n",
    "        xtl = dif.Crystal(files);         # ; suppresses the output a given line of code\n",
    "        \n",
    "        # get the lattice parameters, a,b,c, and alpha, beta, gamma\n",
    "        lattice_parameters = xtl.Cell.lp();\n",
    "\n",
    "        # get the 2theta, corresponding intensities, and reflections (h,k, l values (Miler indices)\n",
    "\n",
    "        xtl.Scatter.setup_scatter(energy_kev=energy_kev, min_twotheta=5, max_twotheta=100, scattering_type='xray', powder_units='tth');\n",
    "        twotheta, intensity, reflections = xtl.Scatter.powder(units='tth', peak_width=0.01, background=0);\n",
    "\n",
    "        # since we don't need the reflections and twotheta we can delete it from memory to save RAM\n",
    "        del(twotheta, reflections)\n",
    "        \n",
    "        # scale the intensity between 0 and 1\n",
    "        intensity /= np.max(intensity);\n",
    "        \n",
    "        \n",
    "        # We don't need all of the points so we will skip some of the 2theta values\n",
    "        intensity = intensity[0:intensity.size:10]\n",
    "\n",
    "        if count == 0:\n",
    "            # Create an empty numpy array to store X_train\n",
    "            X_train = np.empty((len(file_paths), intensity.size));\n",
    "\n",
    "            # Create an empty numpy array to store Y_train\n",
    "            Y_train = np.empty((len(file_paths), len(lattice_parameters)));\n",
    "\n",
    "\n",
    "        # create X_train containing intensity values for all two theta along a row.\n",
    "        X_train[count] = intensity;\n",
    "        Y_train[count] = np.array(lattice_parameters);\n",
    "\n",
    "\n",
    "        count += 1        # this simply means count = count + 1\n",
    "    \n",
    "    del(intensity)        # delete the intensity matrix at the end to clear up RAM\n",
    "    \n",
    "    return X_train, Y_train\n"
   ]
  },
  {
   "cell_type": "markdown",
   "id": "937104e3-5692-4f97-83f0-777d9e4aa206",
   "metadata": {},
   "source": [
    "# Create the X and Y training data"
   ]
  },
  {
   "cell_type": "code",
   "execution_count": 10,
   "id": "7ea87a95-942c-4989-9f3c-c51f9c134f33",
   "metadata": {
    "tags": []
   },
   "outputs": [],
   "source": [
    "X_train = np.genfromtxt('./training_data/cleaned_training_data/X_train.csv', delimiter=',')\n",
    "\n",
    "Y_train = np.genfromtxt('./training_data/cleaned_training_data/Y_train.csv', delimiter=',')\n"
   ]
  },
  {
   "cell_type": "code",
   "execution_count": 11,
   "id": "be2c2001-0ca6-416a-83fd-733b1d67cd38",
   "metadata": {
    "tags": []
   },
   "outputs": [
    {
     "name": "stdout",
     "output_type": "stream",
     "text": [
      "(792, 1179) (792, 6)\n"
     ]
    }
   ],
   "source": [
    "print(X_train.shape, Y_train.shape)"
   ]
  },
  {
   "cell_type": "markdown",
   "id": "02f75283-0686-4afa-988c-fcbba85b2345",
   "metadata": {},
   "source": [
    "# Scale Y_train from 0 to 1, X_train is already scaled"
   ]
  },
  {
   "cell_type": "code",
   "execution_count": 12,
   "id": "30bd063f-06e4-4e03-aecb-e887682ca3ae",
   "metadata": {},
   "outputs": [],
   "source": [
    "a_max = np.max(Y_train[:,0])         # maximum of a\n",
    "b_max = np.max(Y_train[:,1])         # maximum of b\n",
    "c_max = np.max(Y_train[:,2])         # maximum of c\n",
    "\n",
    "alpha_max = np.max(Y_train[:,3])     # maximum of alpha\n",
    "beta_max  = np.max(Y_train[:,4])     # maximum of beta\n",
    "gamma_max = np.max(Y_train[:,5])     # maximum of gamma\n",
    "\n",
    "\n",
    "Y_train[:,0] *= 1/a_max;             # this means mutiplication of 0th column with 1/a_max\n",
    "\n",
    "Y_train[:,1] *= 1/b_max;\n",
    "\n",
    "Y_train[:,2] *= 1/c_max;\n",
    "\n",
    "Y_train[:,3] *= 1/alpha_max;\n",
    "Y_train[:,4] *= 1/beta_max;\n",
    "Y_train[:,5] *= 1/gamma_max;\n"
   ]
  },
  {
   "cell_type": "markdown",
   "id": "82cabb8c-ab04-42c1-b773-7c0cdfedde0c",
   "metadata": {},
   "source": [
    "# Take last 5 rows out of the training data for testing the model"
   ]
  },
  {
   "cell_type": "code",
   "execution_count": 13,
   "id": "bef8e6af-89b7-4adb-b79e-37a6f6e20222",
   "metadata": {
    "tags": []
   },
   "outputs": [
    {
     "name": "stdout",
     "output_type": "stream",
     "text": [
      "(5, 1179) (5, 6)\n"
     ]
    }
   ],
   "source": [
    "X_test = X_train[X_train[:,0].size - 5: X_train[:,0].size, :]\n",
    "Y_test = Y_train[Y_train[:,0].size - 5: Y_train[:,0].size, :]\n",
    "\n",
    "print(X_test.shape, Y_test.shape)"
   ]
  },
  {
   "cell_type": "markdown",
   "id": "71d7aad5-64cb-49a3-b5fe-160747614e57",
   "metadata": {},
   "source": [
    "# Delete last 5 rows from the X_train and Y_train"
   ]
  },
  {
   "cell_type": "code",
   "execution_count": 14,
   "id": "29e5b5da-dfc3-47e4-ba21-45015d44040d",
   "metadata": {
    "tags": []
   },
   "outputs": [
    {
     "name": "stdout",
     "output_type": "stream",
     "text": [
      "(787, 1179) (787, 6)\n"
     ]
    }
   ],
   "source": [
    "X_train = np.delete(X_train, np.arange(X_train[:,0].size-5,X_train[:,0].size, 1), axis=0);\n",
    "Y_train = np.delete(Y_train, np.arange(Y_train[:,0].size-5,Y_train[:,0].size, 1), axis=0);\n",
    "\n",
    "print(X_train.shape, Y_train.shape)"
   ]
  },
  {
   "cell_type": "markdown",
   "id": "5a24b9ff-452a-4ce0-a7ed-5d9da30923e7",
   "metadata": {
    "tags": []
   },
   "source": [
    "# Check if data is correctly generated"
   ]
  },
  {
   "cell_type": "code",
   "execution_count": 15,
   "id": "e99099a1-cab1-480c-9d79-dd2e98e44833",
   "metadata": {
    "tags": []
   },
   "outputs": [
    {
     "data": {
      "text/plain": [
       "[<matplotlib.lines.Line2D at 0x24e804ba530>]"
      ]
     },
     "execution_count": 15,
     "metadata": {},
     "output_type": "execute_result"
    },
    {
     "data": {
      "image/png": "[encoded data removed]",
      "text/plain": [
       "<Figure size 640x480 with 1 Axes>"
      ]
     },
     "metadata": {},
     "output_type": "display_data"
    }
   ],
   "source": [
    "import matplotlib.pyplot as plt\n",
    "\n",
    "plt.plot(X_train[16])"
   ]
  },
  {
   "cell_type": "markdown",
   "id": "e0949555-5439-4b34-9dce-5901551efa4d",
   "metadata": {
    "tags": []
   },
   "source": [
    "# Create your multiple output MLP model"
   ]
  },
  {
   "cell_type": "code",
   "execution_count": 16,
   "id": "54150472-d583-4b5d-afcf-372728caa8c6",
   "metadata": {
    "tags": []
   },
   "outputs": [],
   "source": [
    "# Libraries\n",
    "from keras.models import Sequential\n",
    "from keras.layers import Dense\n",
    "\n",
    "# get the model\n",
    "def get_model(n_inputs, n_outputs):\n",
    "    \n",
    "    # Define your Keras model here\n",
    "    model = Sequential()\n",
    "\n",
    "    # The Input Layer :\n",
    "    model.add(Dense(1024, kernel_initializer='normal', bias_initializer='normal', input_dim = n_inputs, activation='relu'))\n",
    "\n",
    "    # The Hidden Layers :\n",
    "    model.add(Dense(1024, kernel_initializer='normal',bias_initializer='normal', activation='relu'))\n",
    "    model.add(Dense(512, kernel_initializer='normal',bias_initializer='normal', activation='relu'))\n",
    "    model.add(Dense(512, kernel_initializer='normal',bias_initializer='normal', activation='relu'))\n",
    "\n",
    "    # The Output Layer :\n",
    "    model.add(Dense(n_outputs, kernel_initializer='normal',bias_initializer='normal', activation='sigmoid'))\n",
    "  \n",
    "\n",
    "    # Compile the network :\n",
    "#    model.compile(loss='mean_absolute_error', optimizer='adam', metrics=['mean_absolute_error'])\n",
    "\n",
    "    model.compile(loss='mean_absolute_error', optimizer='adam', metrics=['accuracy'])\n",
    "\n",
    "#    model.compile(loss='mae', optimizer='adam')\n",
    "    return model"
   ]
  },
  {
   "cell_type": "markdown",
   "id": "168f5f04-a590-4007-81bc-976e3fda54ac",
   "metadata": {},
   "source": [
    "# Train the model"
   ]
  },
  {
   "cell_type": "code",
   "execution_count": 17,
   "id": "85e470db-0967-4649-ab11-2716131834c4",
   "metadata": {
    "tags": []
   },
   "outputs": [
    {
     "name": "stdout",
     "output_type": "stream",
     "text": [
      "Epoch 1/200\n",
      "25/25 [==============================] - 2s 30ms/step - loss: 0.0891 - accuracy: 0.4003\n",
      "Epoch 2/200\n",
      "25/25 [==============================] - 1s 30ms/step - loss: 0.0482 - accuracy: 0.5172\n",
      "Epoch 3/200\n",
      "25/25 [==============================] - 1s 30ms/step - loss: 0.0388 - accuracy: 0.5515\n",
      "Epoch 4/200\n",
      "25/25 [==============================] - 1s 30ms/step - loss: 0.0310 - accuracy: 0.6061\n",
      "Epoch 5/200\n",
      "25/25 [==============================] - 1s 30ms/step - loss: 0.0289 - accuracy: 0.6823\n",
      "Epoch 6/200\n",
      "25/25 [==============================] - 1s 34ms/step - loss: 0.0265 - accuracy: 0.6163\n",
      "Epoch 7/200\n",
      "25/25 [==============================] - 1s 33ms/step - loss: 0.0227 - accuracy: 0.7637\n",
      "Epoch 8/200\n",
      "25/25 [==============================] - 1s 31ms/step - loss: 0.0242 - accuracy: 0.8081\n",
      "Epoch 9/200\n",
      "25/25 [==============================] - 1s 31ms/step - loss: 0.0205 - accuracy: 0.7929\n",
      "Epoch 10/200\n",
      "25/25 [==============================] - 1s 31ms/step - loss: 0.0189 - accuracy: 0.7662\n",
      "Epoch 11/200\n",
      "25/25 [==============================] - 1s 31ms/step - loss: 0.0185 - accuracy: 0.8056\n",
      "Epoch 12/200\n",
      "25/25 [==============================] - 1s 31ms/step - loss: 0.0169 - accuracy: 0.8386\n",
      "Epoch 13/200\n",
      "25/25 [==============================] - 1s 31ms/step - loss: 0.0161 - accuracy: 0.8374\n",
      "Epoch 14/200\n",
      "25/25 [==============================] - 1s 32ms/step - loss: 0.0165 - accuracy: 0.9072\n",
      "Epoch 15/200\n",
      "25/25 [==============================] - 1s 32ms/step - loss: 0.0151 - accuracy: 0.8463\n",
      "Epoch 16/200\n",
      "25/25 [==============================] - 1s 32ms/step - loss: 0.0139 - accuracy: 0.8297\n",
      "Epoch 17/200\n",
      "25/25 [==============================] - 1s 31ms/step - loss: 0.0132 - accuracy: 0.8513\n",
      "Epoch 18/200\n",
      "25/25 [==============================] - 1s 31ms/step - loss: 0.0132 - accuracy: 0.9187\n",
      "Epoch 19/200\n",
      "25/25 [==============================] - 1s 31ms/step - loss: 0.0126 - accuracy: 0.9009\n",
      "Epoch 20/200\n",
      "25/25 [==============================] - 1s 31ms/step - loss: 0.0128 - accuracy: 0.8971\n",
      "Epoch 21/200\n",
      "25/25 [==============================] - 1s 31ms/step - loss: 0.0119 - accuracy: 0.8602\n",
      "Epoch 22/200\n",
      "25/25 [==============================] - 1s 31ms/step - loss: 0.0130 - accuracy: 0.9161\n",
      "Epoch 23/200\n",
      "25/25 [==============================] - 1s 31ms/step - loss: 0.0146 - accuracy: 0.8412\n",
      "Epoch 24/200\n",
      "25/25 [==============================] - 1s 31ms/step - loss: 0.0128 - accuracy: 0.9034\n",
      "Epoch 25/200\n",
      "25/25 [==============================] - 1s 31ms/step - loss: 0.0114 - accuracy: 0.9288\n",
      "Epoch 26/200\n",
      "25/25 [==============================] - 1s 31ms/step - loss: 0.0098 - accuracy: 0.9555\n",
      "Epoch 27/200\n",
      "25/25 [==============================] - 1s 31ms/step - loss: 0.0108 - accuracy: 0.9288\n",
      "Epoch 28/200\n",
      "25/25 [==============================] - 1s 32ms/step - loss: 0.0105 - accuracy: 0.9479\n",
      "Epoch 29/200\n",
      "25/25 [==============================] - 1s 31ms/step - loss: 0.0093 - accuracy: 0.9428\n",
      "Epoch 30/200\n",
      "25/25 [==============================] - 1s 31ms/step - loss: 0.0089 - accuracy: 0.9403\n",
      "Epoch 31/200\n",
      "25/25 [==============================] - 1s 31ms/step - loss: 0.0097 - accuracy: 0.9454\n",
      "Epoch 32/200\n",
      "25/25 [==============================] - 1s 31ms/step - loss: 0.0092 - accuracy: 0.9390\n",
      "Epoch 33/200\n",
      "25/25 [==============================] - 1s 32ms/step - loss: 0.0092 - accuracy: 0.9288\n",
      "Epoch 34/200\n",
      "25/25 [==============================] - 1s 32ms/step - loss: 0.0092 - accuracy: 0.9454\n",
      "Epoch 35/200\n",
      "25/25 [==============================] - 1s 32ms/step - loss: 0.0084 - accuracy: 0.9644\n",
      "Epoch 36/200\n",
      "25/25 [==============================] - 1s 35ms/step - loss: 0.0084 - accuracy: 0.9543\n",
      "Epoch 37/200\n",
      "25/25 [==============================] - 1s 36ms/step - loss: 0.0079 - accuracy: 0.9657\n",
      "Epoch 38/200\n",
      "25/25 [==============================] - 1s 34ms/step - loss: 0.0081 - accuracy: 0.9555\n",
      "Epoch 39/200\n",
      "25/25 [==============================] - 1s 34ms/step - loss: 0.0082 - accuracy: 0.9568\n",
      "Epoch 40/200\n",
      "25/25 [==============================] - 1s 33ms/step - loss: 0.0080 - accuracy: 0.9670\n",
      "Epoch 41/200\n",
      "25/25 [==============================] - 1s 33ms/step - loss: 0.0084 - accuracy: 0.9733\n",
      "Epoch 42/200\n",
      "25/25 [==============================] - 1s 35ms/step - loss: 0.0080 - accuracy: 0.9797\n",
      "Epoch 43/200\n",
      "25/25 [==============================] - 1s 40ms/step - loss: 0.0089 - accuracy: 0.9530\n",
      "Epoch 44/200\n",
      "25/25 [==============================] - 1s 35ms/step - loss: 0.0084 - accuracy: 0.9695\n",
      "Epoch 45/200\n",
      "25/25 [==============================] - 1s 34ms/step - loss: 0.0077 - accuracy: 0.9720\n",
      "Epoch 46/200\n",
      "25/25 [==============================] - 1s 33ms/step - loss: 0.0076 - accuracy: 0.9632\n",
      "Epoch 47/200\n",
      "25/25 [==============================] - 1s 36ms/step - loss: 0.0081 - accuracy: 0.9441\n",
      "Epoch 48/200\n",
      "25/25 [==============================] - 1s 34ms/step - loss: 0.0076 - accuracy: 0.9568\n",
      "Epoch 49/200\n",
      "25/25 [==============================] - 1s 36ms/step - loss: 0.0076 - accuracy: 0.9403\n",
      "Epoch 50/200\n",
      "25/25 [==============================] - 1s 34ms/step - loss: 0.0080 - accuracy: 0.9746\n",
      "Epoch 51/200\n",
      "25/25 [==============================] - 1s 35ms/step - loss: 0.0087 - accuracy: 0.9263\n",
      "Epoch 52/200\n",
      "25/25 [==============================] - 1s 34ms/step - loss: 0.0072 - accuracy: 0.9720\n",
      "Epoch 53/200\n",
      "25/25 [==============================] - 1s 32ms/step - loss: 0.0078 - accuracy: 0.9860\n",
      "Epoch 54/200\n",
      "25/25 [==============================] - 1s 33ms/step - loss: 0.0069 - accuracy: 0.9809\n",
      "Epoch 55/200\n",
      "25/25 [==============================] - 1s 33ms/step - loss: 0.0070 - accuracy: 0.9759\n",
      "Epoch 56/200\n",
      "25/25 [==============================] - 1s 32ms/step - loss: 0.0069 - accuracy: 0.9720\n",
      "Epoch 57/200\n",
      "25/25 [==============================] - 1s 31ms/step - loss: 0.0076 - accuracy: 0.9746\n",
      "Epoch 58/200\n",
      "25/25 [==============================] - 1s 31ms/step - loss: 0.0075 - accuracy: 0.9543\n",
      "Epoch 59/200\n",
      "25/25 [==============================] - 1s 31ms/step - loss: 0.0069 - accuracy: 0.9670\n",
      "Epoch 60/200\n",
      "25/25 [==============================] - 1s 31ms/step - loss: 0.0064 - accuracy: 0.9797\n",
      "Epoch 61/200\n",
      "25/25 [==============================] - 1s 31ms/step - loss: 0.0068 - accuracy: 0.9848\n",
      "Epoch 62/200\n",
      "25/25 [==============================] - 1s 31ms/step - loss: 0.0067 - accuracy: 0.9682\n",
      "Epoch 63/200\n",
      "25/25 [==============================] - 1s 31ms/step - loss: 0.0070 - accuracy: 0.9670\n",
      "Epoch 64/200\n",
      "25/25 [==============================] - 1s 31ms/step - loss: 0.0068 - accuracy: 0.9708\n",
      "Epoch 65/200\n",
      "25/25 [==============================] - 1s 31ms/step - loss: 0.0060 - accuracy: 0.9784\n",
      "Epoch 66/200\n",
      "25/25 [==============================] - 1s 32ms/step - loss: 0.0058 - accuracy: 0.9759\n",
      "Epoch 67/200\n",
      "25/25 [==============================] - 1s 31ms/step - loss: 0.0056 - accuracy: 0.9848\n",
      "Epoch 68/200\n",
      "25/25 [==============================] - 1s 31ms/step - loss: 0.0058 - accuracy: 0.9771\n",
      "Epoch 69/200\n",
      "25/25 [==============================] - 1s 31ms/step - loss: 0.0063 - accuracy: 0.9784\n",
      "Epoch 70/200\n",
      "25/25 [==============================] - 1s 31ms/step - loss: 0.0061 - accuracy: 0.9771\n",
      "Epoch 71/200\n",
      "25/25 [==============================] - 1s 32ms/step - loss: 0.0063 - accuracy: 0.9898\n",
      "Epoch 72/200\n",
      "25/25 [==============================] - 1s 33ms/step - loss: 0.0062 - accuracy: 0.9784\n",
      "Epoch 73/200\n",
      "25/25 [==============================] - 1s 32ms/step - loss: 0.0058 - accuracy: 0.9809\n",
      "Epoch 74/200\n",
      "25/25 [==============================] - 1s 32ms/step - loss: 0.0056 - accuracy: 0.9835\n",
      "Epoch 75/200\n",
      "25/25 [==============================] - 1s 33ms/step - loss: 0.0063 - accuracy: 0.9771\n",
      "Epoch 76/200\n",
      "25/25 [==============================] - 1s 32ms/step - loss: 0.0060 - accuracy: 0.9670\n",
      "Epoch 77/200\n",
      "25/25 [==============================] - 1s 32ms/step - loss: 0.0051 - accuracy: 0.9835\n",
      "Epoch 78/200\n",
      "25/25 [==============================] - 1s 32ms/step - loss: 0.0053 - accuracy: 0.9822\n",
      "Epoch 79/200\n",
      "25/25 [==============================] - 1s 32ms/step - loss: 0.0050 - accuracy: 0.9848\n",
      "Epoch 80/200\n",
      "25/25 [==============================] - 1s 32ms/step - loss: 0.0052 - accuracy: 0.9886\n",
      "Epoch 81/200\n",
      "25/25 [==============================] - 1s 32ms/step - loss: 0.0060 - accuracy: 0.9848\n",
      "Epoch 82/200\n",
      "25/25 [==============================] - 1s 32ms/step - loss: 0.0060 - accuracy: 0.9835\n",
      "Epoch 83/200\n",
      "25/25 [==============================] - 1s 32ms/step - loss: 0.0054 - accuracy: 0.9911\n",
      "Epoch 84/200\n",
      "25/25 [==============================] - 1s 32ms/step - loss: 0.0050 - accuracy: 0.9911\n",
      "Epoch 85/200\n",
      "25/25 [==============================] - 1s 32ms/step - loss: 0.0051 - accuracy: 0.9898\n",
      "Epoch 86/200\n",
      "25/25 [==============================] - 1s 32ms/step - loss: 0.0055 - accuracy: 0.9835\n",
      "Epoch 87/200\n",
      "25/25 [==============================] - 1s 32ms/step - loss: 0.0051 - accuracy: 0.9860\n",
      "Epoch 88/200\n",
      "25/25 [==============================] - 1s 32ms/step - loss: 0.0053 - accuracy: 0.9822\n",
      "Epoch 89/200\n",
      "25/25 [==============================] - 1s 32ms/step - loss: 0.0057 - accuracy: 0.9784\n",
      "Epoch 90/200\n",
      "25/25 [==============================] - 1s 32ms/step - loss: 0.0057 - accuracy: 0.9695\n",
      "Epoch 91/200\n",
      "25/25 [==============================] - 1s 32ms/step - loss: 0.0050 - accuracy: 0.9898\n",
      "Epoch 92/200\n",
      "25/25 [==============================] - 1s 32ms/step - loss: 0.0055 - accuracy: 0.9733\n",
      "Epoch 93/200\n",
      "25/25 [==============================] - 1s 32ms/step - loss: 0.0058 - accuracy: 0.9720\n",
      "Epoch 94/200\n",
      "25/25 [==============================] - 1s 31ms/step - loss: 0.0052 - accuracy: 0.9809\n",
      "Epoch 95/200\n",
      "25/25 [==============================] - 1s 32ms/step - loss: 0.0055 - accuracy: 0.9898\n",
      "Epoch 96/200\n",
      "25/25 [==============================] - 1s 32ms/step - loss: 0.0058 - accuracy: 0.9784\n",
      "Epoch 97/200\n",
      "25/25 [==============================] - 1s 31ms/step - loss: 0.0055 - accuracy: 0.9911\n",
      "Epoch 98/200\n",
      "25/25 [==============================] - 1s 32ms/step - loss: 0.0050 - accuracy: 0.9784\n",
      "Epoch 99/200\n",
      "25/25 [==============================] - 1s 32ms/step - loss: 0.0052 - accuracy: 0.9860\n",
      "Epoch 100/200\n",
      "25/25 [==============================] - 1s 33ms/step - loss: 0.0056 - accuracy: 0.9822\n",
      "Epoch 101/200\n",
      "25/25 [==============================] - 1s 32ms/step - loss: 0.0050 - accuracy: 0.9886\n",
      "Epoch 102/200\n",
      "25/25 [==============================] - 1s 31ms/step - loss: 0.0045 - accuracy: 0.9759\n",
      "Epoch 103/200\n",
      "25/25 [==============================] - 1s 32ms/step - loss: 0.0047 - accuracy: 0.9873\n",
      "Epoch 104/200\n",
      "25/25 [==============================] - 1s 32ms/step - loss: 0.0046 - accuracy: 0.9848\n",
      "Epoch 105/200\n",
      "25/25 [==============================] - 1s 32ms/step - loss: 0.0048 - accuracy: 0.9886\n",
      "Epoch 106/200\n",
      "25/25 [==============================] - 1s 32ms/step - loss: 0.0051 - accuracy: 0.9797\n",
      "Epoch 107/200\n",
      "25/25 [==============================] - 1s 32ms/step - loss: 0.0046 - accuracy: 0.9898\n",
      "Epoch 108/200\n",
      "25/25 [==============================] - 1s 32ms/step - loss: 0.0044 - accuracy: 0.9886\n",
      "Epoch 109/200\n",
      "25/25 [==============================] - 1s 32ms/step - loss: 0.0044 - accuracy: 0.9898\n",
      "Epoch 110/200\n",
      "25/25 [==============================] - 1s 32ms/step - loss: 0.0050 - accuracy: 0.9898\n",
      "Epoch 111/200\n",
      "25/25 [==============================] - 1s 34ms/step - loss: 0.0049 - accuracy: 0.9797\n",
      "Epoch 112/200\n",
      "25/25 [==============================] - 1s 31ms/step - loss: 0.0044 - accuracy: 0.9975\n",
      "Epoch 113/200\n",
      "25/25 [==============================] - 1s 33ms/step - loss: 0.0047 - accuracy: 0.9860\n",
      "Epoch 114/200\n",
      "25/25 [==============================] - 1s 32ms/step - loss: 0.0046 - accuracy: 0.9873\n",
      "Epoch 115/200\n",
      "25/25 [==============================] - 1s 31ms/step - loss: 0.0047 - accuracy: 0.9873\n",
      "Epoch 116/200\n",
      "25/25 [==============================] - 1s 32ms/step - loss: 0.0046 - accuracy: 0.9886\n",
      "Epoch 117/200\n",
      "25/25 [==============================] - 1s 31ms/step - loss: 0.0049 - accuracy: 0.9797\n",
      "Epoch 118/200\n",
      "25/25 [==============================] - 1s 33ms/step - loss: 0.0046 - accuracy: 0.9860\n",
      "Epoch 119/200\n",
      "25/25 [==============================] - 1s 32ms/step - loss: 0.0051 - accuracy: 0.9822\n",
      "Epoch 120/200\n",
      "25/25 [==============================] - 1s 34ms/step - loss: 0.0051 - accuracy: 0.9860\n",
      "Epoch 121/200\n",
      "25/25 [==============================] - 1s 33ms/step - loss: 0.0047 - accuracy: 0.9860\n",
      "Epoch 122/200\n",
      "25/25 [==============================] - 1s 33ms/step - loss: 0.0046 - accuracy: 0.9809\n",
      "Epoch 123/200\n",
      "25/25 [==============================] - 1s 32ms/step - loss: 0.0045 - accuracy: 0.9873\n",
      "Epoch 124/200\n",
      "25/25 [==============================] - 1s 33ms/step - loss: 0.0043 - accuracy: 0.9898\n",
      "Epoch 125/200\n",
      "25/25 [==============================] - 1s 32ms/step - loss: 0.0046 - accuracy: 0.9860\n",
      "Epoch 126/200\n",
      "25/25 [==============================] - 1s 32ms/step - loss: 0.0045 - accuracy: 0.9848\n",
      "Epoch 127/200\n",
      "25/25 [==============================] - 1s 31ms/step - loss: 0.0048 - accuracy: 0.9886\n",
      "Epoch 128/200\n",
      "25/25 [==============================] - 1s 31ms/step - loss: 0.0048 - accuracy: 0.9886\n",
      "Epoch 129/200\n",
      "25/25 [==============================] - 1s 31ms/step - loss: 0.0050 - accuracy: 0.9911\n",
      "Epoch 130/200\n",
      "25/25 [==============================] - 1s 31ms/step - loss: 0.0047 - accuracy: 0.9886\n",
      "Epoch 131/200\n",
      "25/25 [==============================] - 1s 32ms/step - loss: 0.0049 - accuracy: 0.9924\n",
      "Epoch 132/200\n",
      "25/25 [==============================] - 1s 32ms/step - loss: 0.0047 - accuracy: 0.9873\n",
      "Epoch 133/200\n",
      "25/25 [==============================] - 1s 34ms/step - loss: 0.0044 - accuracy: 0.9911\n",
      "Epoch 134/200\n",
      "25/25 [==============================] - 1s 33ms/step - loss: 0.0043 - accuracy: 0.9924\n",
      "Epoch 135/200\n",
      "25/25 [==============================] - 1s 33ms/step - loss: 0.0041 - accuracy: 0.9924\n",
      "Epoch 136/200\n",
      "25/25 [==============================] - 1s 34ms/step - loss: 0.0043 - accuracy: 0.9848\n",
      "Epoch 137/200\n",
      "25/25 [==============================] - 1s 33ms/step - loss: 0.0041 - accuracy: 0.9911\n",
      "Epoch 138/200\n",
      "25/25 [==============================] - 1s 33ms/step - loss: 0.0039 - accuracy: 0.9911\n",
      "Epoch 139/200\n",
      "25/25 [==============================] - 1s 34ms/step - loss: 0.0039 - accuracy: 0.9911\n",
      "Epoch 140/200\n",
      "25/25 [==============================] - 1s 33ms/step - loss: 0.0040 - accuracy: 0.9898\n",
      "Epoch 141/200\n",
      "25/25 [==============================] - 1s 32ms/step - loss: 0.0044 - accuracy: 0.9886\n",
      "Epoch 142/200\n",
      "25/25 [==============================] - 1s 34ms/step - loss: 0.0040 - accuracy: 0.9924\n",
      "Epoch 143/200\n",
      "25/25 [==============================] - 1s 32ms/step - loss: 0.0038 - accuracy: 0.9873\n",
      "Epoch 144/200\n",
      "25/25 [==============================] - 1s 31ms/step - loss: 0.0040 - accuracy: 0.9822\n",
      "Epoch 145/200\n",
      "25/25 [==============================] - 1s 32ms/step - loss: 0.0043 - accuracy: 0.9924\n",
      "Epoch 146/200\n",
      "25/25 [==============================] - 1s 32ms/step - loss: 0.0042 - accuracy: 0.9949\n",
      "Epoch 147/200\n",
      "25/25 [==============================] - 1s 32ms/step - loss: 0.0043 - accuracy: 0.9886\n",
      "Epoch 148/200\n",
      "25/25 [==============================] - 1s 33ms/step - loss: 0.0041 - accuracy: 0.9924\n",
      "Epoch 149/200\n",
      "25/25 [==============================] - 1s 33ms/step - loss: 0.0042 - accuracy: 0.9936\n",
      "Epoch 150/200\n",
      "25/25 [==============================] - 1s 33ms/step - loss: 0.0041 - accuracy: 0.9822\n",
      "Epoch 151/200\n",
      "25/25 [==============================] - 1s 33ms/step - loss: 0.0045 - accuracy: 0.9822\n",
      "Epoch 152/200\n",
      "25/25 [==============================] - 1s 34ms/step - loss: 0.0042 - accuracy: 0.9860\n",
      "Epoch 153/200\n",
      "25/25 [==============================] - 1s 33ms/step - loss: 0.0040 - accuracy: 0.9835\n",
      "Epoch 154/200\n",
      "25/25 [==============================] - 1s 33ms/step - loss: 0.0041 - accuracy: 0.9835\n",
      "Epoch 155/200\n",
      "25/25 [==============================] - 1s 32ms/step - loss: 0.0039 - accuracy: 0.9898\n",
      "Epoch 156/200\n",
      "25/25 [==============================] - 1s 33ms/step - loss: 0.0041 - accuracy: 0.9924\n",
      "Epoch 157/200\n",
      "25/25 [==============================] - 1s 32ms/step - loss: 0.0041 - accuracy: 0.9924\n",
      "Epoch 158/200\n",
      "25/25 [==============================] - 1s 33ms/step - loss: 0.0040 - accuracy: 0.9898\n",
      "Epoch 159/200\n",
      "25/25 [==============================] - 1s 33ms/step - loss: 0.0041 - accuracy: 0.9886\n",
      "Epoch 160/200\n",
      "25/25 [==============================] - 1s 33ms/step - loss: 0.0040 - accuracy: 0.9924\n",
      "Epoch 161/200\n",
      "25/25 [==============================] - 1s 33ms/step - loss: 0.0038 - accuracy: 0.9898\n",
      "Epoch 162/200\n",
      "25/25 [==============================] - 1s 33ms/step - loss: 0.0039 - accuracy: 0.9886\n",
      "Epoch 163/200\n",
      "25/25 [==============================] - 1s 32ms/step - loss: 0.0042 - accuracy: 0.9873\n",
      "Epoch 164/200\n",
      "25/25 [==============================] - 1s 33ms/step - loss: 0.0039 - accuracy: 0.9809\n",
      "Epoch 165/200\n",
      "25/25 [==============================] - 1s 33ms/step - loss: 0.0040 - accuracy: 0.9873\n",
      "Epoch 166/200\n",
      "25/25 [==============================] - 1s 33ms/step - loss: 0.0039 - accuracy: 0.9835\n",
      "Epoch 167/200\n",
      "25/25 [==============================] - 1s 33ms/step - loss: 0.0037 - accuracy: 0.9949\n",
      "Epoch 168/200\n",
      "25/25 [==============================] - 1s 32ms/step - loss: 0.0038 - accuracy: 0.9886\n",
      "Epoch 169/200\n",
      "25/25 [==============================] - 1s 32ms/step - loss: 0.0034 - accuracy: 0.9936\n",
      "Epoch 170/200\n",
      "25/25 [==============================] - 1s 31ms/step - loss: 0.0035 - accuracy: 0.9848\n",
      "Epoch 171/200\n",
      "25/25 [==============================] - 1s 32ms/step - loss: 0.0036 - accuracy: 0.9835\n",
      "Epoch 172/200\n",
      "25/25 [==============================] - 1s 31ms/step - loss: 0.0039 - accuracy: 0.9936\n",
      "Epoch 173/200\n",
      "25/25 [==============================] - 1s 33ms/step - loss: 0.0040 - accuracy: 0.9911\n",
      "Epoch 174/200\n",
      "25/25 [==============================] - 1s 32ms/step - loss: 0.0037 - accuracy: 0.9873\n",
      "Epoch 175/200\n",
      "25/25 [==============================] - 1s 33ms/step - loss: 0.0038 - accuracy: 0.9860\n",
      "Epoch 176/200\n",
      "25/25 [==============================] - 1s 33ms/step - loss: 0.0040 - accuracy: 0.9886\n",
      "Epoch 177/200\n",
      "25/25 [==============================] - 1s 32ms/step - loss: 0.0040 - accuracy: 0.9860\n",
      "Epoch 178/200\n",
      "25/25 [==============================] - 1s 32ms/step - loss: 0.0039 - accuracy: 0.9898\n",
      "Epoch 179/200\n",
      "25/25 [==============================] - 1s 31ms/step - loss: 0.0037 - accuracy: 0.9911\n",
      "Epoch 180/200\n",
      "25/25 [==============================] - 1s 32ms/step - loss: 0.0035 - accuracy: 0.9848\n",
      "Epoch 181/200\n",
      "25/25 [==============================] - 1s 33ms/step - loss: 0.0039 - accuracy: 0.9911\n",
      "Epoch 182/200\n",
      "25/25 [==============================] - 1s 34ms/step - loss: 0.0039 - accuracy: 0.9873\n",
      "Epoch 183/200\n",
      "25/25 [==============================] - 1s 33ms/step - loss: 0.0042 - accuracy: 0.9911\n",
      "Epoch 184/200\n",
      "25/25 [==============================] - 1s 32ms/step - loss: 0.0039 - accuracy: 0.9873\n",
      "Epoch 185/200\n",
      "25/25 [==============================] - 1s 32ms/step - loss: 0.0039 - accuracy: 0.9898\n",
      "Epoch 186/200\n",
      "25/25 [==============================] - 1s 32ms/step - loss: 0.0036 - accuracy: 0.9886\n",
      "Epoch 187/200\n",
      "25/25 [==============================] - 1s 34ms/step - loss: 0.0038 - accuracy: 0.9873\n",
      "Epoch 188/200\n",
      "25/25 [==============================] - 1s 35ms/step - loss: 0.0040 - accuracy: 0.9835\n",
      "Epoch 189/200\n",
      "25/25 [==============================] - 1s 33ms/step - loss: 0.0036 - accuracy: 0.9949\n",
      "Epoch 190/200\n",
      "25/25 [==============================] - 1s 34ms/step - loss: 0.0037 - accuracy: 0.9911\n",
      "Epoch 191/200\n",
      "25/25 [==============================] - 1s 32ms/step - loss: 0.0037 - accuracy: 0.9898\n",
      "Epoch 192/200\n",
      "25/25 [==============================] - 1s 41ms/step - loss: 0.0035 - accuracy: 0.9898\n",
      "Epoch 193/200\n",
      "25/25 [==============================] - 1s 41ms/step - loss: 0.0037 - accuracy: 0.9924\n",
      "Epoch 194/200\n",
      "25/25 [==============================] - 1s 36ms/step - loss: 0.0036 - accuracy: 0.9886\n",
      "Epoch 195/200\n",
      "25/25 [==============================] - 1s 34ms/step - loss: 0.0038 - accuracy: 0.9873\n",
      "Epoch 196/200\n",
      "25/25 [==============================] - 1s 44ms/step - loss: 0.0036 - accuracy: 0.9860\n",
      "Epoch 197/200\n",
      "25/25 [==============================] - 1s 51ms/step - loss: 0.0038 - accuracy: 0.9936\n",
      "Epoch 198/200\n",
      "25/25 [==============================] - 1s 42ms/step - loss: 0.0036 - accuracy: 0.9924\n",
      "Epoch 199/200\n",
      "25/25 [==============================] - 1s 33ms/step - loss: 0.0035 - accuracy: 0.9911\n",
      "Epoch 200/200\n",
      "25/25 [==============================] - 1s 32ms/step - loss: 0.0036 - accuracy: 0.9911\n"
     ]
    },
    {
     "data": {
      "text/plain": [
       "<keras.src.callbacks.History at 0x24ea0f51fc0>"
      ]
     },
     "execution_count": 17,
     "metadata": {},
     "output_type": "execute_result"
    }
   ],
   "source": [
    "n_inputs, n_outputs = X_train[0].size, Y_train[0].size\n",
    "\n",
    "# get model\n",
    "model = get_model(n_inputs, n_outputs)\n",
    "\n",
    "# fit the model on all data\n",
    "model.fit(X_train, Y_train, epochs=200,verbose = 1)\n"
   ]
  },
  {
   "cell_type": "markdown",
   "id": "e6cb281e-52e1-4995-bbc5-8d816f5fe29f",
   "metadata": {
    "tags": []
   },
   "source": [
    "# Make prediction"
   ]
  },
  {
   "cell_type": "code",
   "execution_count": 18,
   "id": "f2ec5267-1d7d-4be9-9160-900ecb870628",
   "metadata": {
    "tags": []
   },
   "outputs": [],
   "source": [
    "# Create an empty list to store the paths of all .cif files\n",
    "file_paths = []\n",
    "\n",
    "training_data_directory = './training_data/cif_files/P6_slash_mmm/'             # ./ means current directory\n",
    "\n",
    "for file in os.listdir(training_data_directory):\n",
    "    if \".cif\" in file:\n",
    "        file_paths.append('./training_data/cif_files/P6_slash_mmm/' + file)"
   ]
  },
  {
   "cell_type": "code",
   "execution_count": 19,
   "id": "094b7d8a-a0c6-44d4-b541-793255315ccf",
   "metadata": {
    "tags": []
   },
   "outputs": [],
   "source": [
    "%%capture\n",
    "\n",
    "# The above line of code supresses the output of this entire cell\n",
    "X_test, Y_test = generate_data_set(file_paths[0:8]);    "
   ]
  },
  {
   "cell_type": "code",
   "execution_count": 20,
   "id": "571b663d-57c2-4750-9375-9e159aff204a",
   "metadata": {
    "tags": []
   },
   "outputs": [
    {
     "data": {
      "text/plain": [
       "array([[5.64023805e-06, 5.66636993e-06, 5.69269493e-06, ...,\n",
       "        6.65966215e-05, 6.40359710e-05, 6.15009599e-05],\n",
       "       [2.84571031e-06, 2.85824178e-06, 2.87085950e-06, ...,\n",
       "        1.48534102e-03, 8.27928304e-04, 5.37969251e-04],\n",
       "       [3.71947210e-05, 3.76433187e-05, 3.81012974e-05, ...,\n",
       "        1.08607776e-03, 9.12174382e-04, 7.81732281e-04],\n",
       "       ...,\n",
       "       [6.65364789e-06, 6.68790029e-06, 6.72243789e-06, ...,\n",
       "        2.44682236e-04, 2.17715108e-04, 1.95606192e-04],\n",
       "       [1.49428422e-05, 1.51333889e-05, 1.53297330e-05, ...,\n",
       "        1.58486801e-01, 1.18073481e-01, 3.35719279e-02],\n",
       "       [1.43660778e-05, 1.45455504e-05, 1.47304312e-05, ...,\n",
       "        1.62587508e-01, 9.21169868e-02, 2.46362460e-02]])"
      ]
     },
     "execution_count": 20,
     "metadata": {},
     "output_type": "execute_result"
    }
   ],
   "source": [
    "X_test"
   ]
  },
  {
   "cell_type": "code",
   "execution_count": null,
   "id": "201c8cb2-e15e-4e43-a3e9-ef4b86be6172",
   "metadata": {},
   "outputs": [],
   "source": []
  },
  {
   "cell_type": "code",
   "execution_count": 21,
   "id": "b28f3a08-f763-4eef-9899-5d61708cec56",
   "metadata": {
    "tags": []
   },
   "outputs": [
    {
     "name": "stdout",
     "output_type": "stream",
     "text": [
      "1/1 [==============================] - 0s 174ms/step\n",
      " Predicted         : [4.9954076 4.8941383 3.955645 ]\n",
      " Actual            : [5.0125 5.0125 3.9873]\n",
      " percentage errors : [0.34099588 2.36132995 0.7938935 ]\n",
      " \n",
      "1/1 [==============================] - 0s 34ms/step\n",
      " Predicted         : [4.6835723 4.6033554 3.9656978]\n",
      " Actual            : [3.085 3.085 3.523]\n",
      " percentage errors : [51.81757836 49.21735519 12.56593146]\n",
      " \n",
      "1/1 [==============================] - 0s 28ms/step\n",
      " Predicted         : [7.0600166 6.792942  6.6204114]\n",
      " Actual            : [7.298 7.298 3.899]\n",
      " percentage errors : [ 3.26093954  6.92049812 69.79767623]\n",
      " \n",
      "1/1 [==============================] - 0s 29ms/step\n",
      " Predicted         : [4.4351153 4.3164244 3.8949432]\n",
      " Actual            : [4.335 4.335 4.226]\n",
      " percentage errors : [2.30946568 0.42850358 7.83380887]\n",
      " \n",
      "1/1 [==============================] - 0s 28ms/step\n",
      " Predicted         : [3.5387833 3.5012405 3.589822 ]\n",
      " Actual            : [8.104 8.104 4.197]\n",
      " percentage errors : [56.33288115 56.79614398 14.4669513 ]\n",
      " \n",
      "1/1 [==============================] - 0s 28ms/step\n",
      " Predicted         : [3.3730905 3.3095434 3.6168141]\n",
      " Actual            : [5.383 5.383 4.277]\n",
      " percentage errors : [37.33809204 38.51860726 15.43572278]\n",
      " \n",
      "1/1 [==============================] - 0s 30ms/step\n",
      " Predicted         : [5.250643 5.177472 8.183139]\n",
      " Actual            : [5.2067 5.2067 8.1431]\n",
      " percentage errors : [0.84396598 0.56135144 0.49169048]\n",
      " \n",
      "1/1 [==============================] - 0s 29ms/step\n",
      " Predicted         : [5.2361426 5.1726475 8.214682 ]\n",
      " Actual            : [5.211  5.211  8.1397]\n",
      " percentage errors : [0.48249156 0.73599163 0.92118414]\n",
      " \n"
     ]
    }
   ],
   "source": [
    "from numpy import asarray\n",
    "\n",
    "# for i in range(Y_test[:,0].size):\n",
    "#     X    = asarray([X_test[i]])\n",
    "#     yhat = model.predict(X)\n",
    "#     y    = asarray([Y_test[i]])\n",
    "\n",
    "\n",
    "    \n",
    "for x, y in zip(X_test, Y_test):\n",
    "    X    = asarray([x])\n",
    "    Yhat = model.predict(X)\n",
    "    Y    = asarray([y])\n",
    "        \n",
    "\n",
    "    Yhat[0,0] *=a_max;\n",
    "    Yhat[0,1] *=b_max;\n",
    "    Yhat[0,2] *=c_max;\n",
    "    Yhat[0,3] *=alpha_max;\n",
    "    Yhat[0,4] *=beta_max;\n",
    "    Yhat[0,5] *=gamma_max;\n",
    "    \n",
    "#     Y[0,0] *=a_max;\n",
    "#     Y[0,1] *=b_max;\n",
    "#     Y[0,2] *=c_max;\n",
    "#     Y[0,3] *=alpha_max;\n",
    "#     Y[0,4] *=beta_max;\n",
    "#     Y[0,5] *=gamma_max;\n",
    "    \n",
    "\n",
    "    print(' Predicted         : %s' % Yhat[0][0:3])\n",
    "    print(' Actual            : %s' % Y[0][0:3])\n",
    "    print(' percentage errors : %s' % np.abs(np.divide((Y[0][0:3] - Yhat[0][0:3])*100,Y[0][0:3])))\n",
    "    print(\" \")"
   ]
  },
  {
   "cell_type": "markdown",
   "id": "e8450ba2-c423-472e-8560-77a78b914574",
   "metadata": {
    "tags": []
   },
   "source": [
    "# Note:\n",
    "Python is case sensitive i.e., two variables named \"a\" and \"A\" are considered different variables"
   ]
  },
  {
   "cell_type": "code",
   "execution_count": null,
   "id": "b67312d1-b4ae-41b8-83be-fada90dee079",
   "metadata": {},
   "outputs": [],
   "source": []
  }
 ],
 "metadata": {
  "kernelspec": {
   "display_name": "Python 3 (ipykernel)",
   "language": "python",
   "name": "python3"
  },
  "language_info": {
   "codemirror_mode": {
    "name": "ipython",
    "version": 3
   },
   "file_extension": ".py",
   "mimetype": "text/x-python",
   "name": "python",
   "nbconvert_exporter": "python",
   "pygments_lexer": "ipython3",
   "version": "3.10.9"
  }
 },
 "nbformat": 4,
 "nbformat_minor": 5
}
